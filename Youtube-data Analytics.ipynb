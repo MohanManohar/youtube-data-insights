{
 "cells": [
  {
   "cell_type": "markdown",
   "id": "a5afd04e-8c9b-431a-a610-730287f13f0d",
   "metadata": {},
   "source": [
    "# Checking the current working directory of python."
   ]
  },
  {
   "cell_type": "code",
   "execution_count": 1,
   "id": "d73170df-1a81-46ac-9af0-f67b38b175bc",
   "metadata": {},
   "outputs": [
    {
     "data": {
      "text/plain": [
       "'D:\\\\00-Python_Projects\\\\01-Python_projects\\\\00-Youtube_analytics'"
      ]
     },
     "execution_count": 1,
     "metadata": {},
     "output_type": "execute_result"
    }
   ],
   "source": [
    "import os\n",
    "os.getcwd()"
   ]
  },
  {
   "cell_type": "code",
   "execution_count": null,
   "id": "c595a97b-4f1e-424b-b179-c592a94acd74",
   "metadata": {},
   "outputs": [],
   "source": [
    "# dotenv library not available in conda . used pip install dotenv"
   ]
  },
  {
   "cell_type": "code",
   "execution_count": 2,
   "id": "0106eebf-3be5-4cd2-88d1-8e1a24de62be",
   "metadata": {},
   "outputs": [
    {
     "name": "stdout",
     "output_type": "stream",
     "text": [
      "My API key is: AIzaSy\n"
     ]
    }
   ],
   "source": [
    "from dotenv import load_dotenv #Library allows python to read key-value pairs from a .env file and load them as environment variables into program's environment\n",
    "import os\n",
    "\n",
    "# Load environment variables from .env file\n",
    "load_dotenv()\n",
    "\n",
    "API_KEY = os.getenv(\"YOUTUBE_API_KEY\") # looks for environment variable and assign to variable api_key\n",
    "\n",
    "print(\"My API key is:\", API_KEY[:6])"
   ]
  },
  {
   "cell_type": "markdown",
   "id": "79313de7-3d1c-4a8e-ab09-ad3f03896984",
   "metadata": {},
   "source": [
    "### Request Library is used send request to api end point and store the response.\n",
    "The requests library is used to send HTTP requests (GET, POST, etc.) to an API endpoint, and then store and process the response (usually JSON) in Python."
   ]
  },
  {
   "cell_type": "code",
   "execution_count": 4,
   "id": "f5ba2516-012c-46b7-a299-0ba9532ec444",
   "metadata": {},
   "outputs": [],
   "source": [
    "import requests"
   ]
  },
  {
   "cell_type": "code",
   "execution_count": 5,
   "id": "f54a89d1-7f2c-4417-ac12-379c14a2ed47",
   "metadata": {},
   "outputs": [
    {
     "name": "stdout",
     "output_type": "stream",
     "text": [
      "Video ID: jNeUBWrrRsQ | Title: Data Science Tutorial | Data Science for Beginners | Data Science with Python Tutorial | Simplilearn\n",
      "Video ID: ua-CiDNNj30 | Title: Learn Data Science Tutorial - Full Course for Beginners\n",
      "Video ID: 8eoi2BKaSRE | Title: Data Science Tutorial | Data Science For Beginners | What is Data Science? | Edureka\n",
      "Video ID: msvZKOjM0rU | Title: Data Science Live - 1 | Data Science Tutorial For Beginners | Data Science Training | Edureka\n",
      "Video ID: mkv5mxYu0Wk | Title: Data Science With Python | Python for Data Science | Python Data Science Tutorial | Simplilearn\n"
     ]
    }
   ],
   "source": [
    "# Search keyword\n",
    "query = \"data science tutorial\"\n",
    "\n",
    "# Define the endpoint\n",
    "url = \"https://www.googleapis.com/youtube/v3/search\"\n",
    "\n",
    "# Define query parameters\n",
    "params = {\n",
    "    \"part\": \"snippet\",       # snippet gives title, description, channel info\n",
    "    \"q\": query,              # search query\n",
    "    \"type\": \"video\",         # only return videos (not channels/playlists)\n",
    "    \"maxResults\": 5,         # number of results (max 50)\n",
    "    \"key\": API_KEY\n",
    "}\n",
    "\n",
    "# Make the request\n",
    "response = requests.get(url, params=params)\n",
    "data = response.json()\n",
    "\n",
    "# Extract video IDs and titles\n",
    "for item in data.get(\"items\", []):\n",
    "    video_id = item[\"id\"][\"videoId\"]\n",
    "    title = item[\"snippet\"][\"title\"]\n",
    "    print(f\"Video ID: {video_id} | Title: {title}\")"
   ]
  }
 ],
 "metadata": {
  "kernelspec": {
   "display_name": "Python 3 (ipykernel)",
   "language": "python",
   "name": "python3"
  },
  "language_info": {
   "codemirror_mode": {
    "name": "ipython",
    "version": 3
   },
   "file_extension": ".py",
   "mimetype": "text/x-python",
   "name": "python",
   "nbconvert_exporter": "python",
   "pygments_lexer": "ipython3",
   "version": "3.11.7"
  }
 },
 "nbformat": 4,
 "nbformat_minor": 5
}
